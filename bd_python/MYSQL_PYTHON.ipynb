{
 "cells": [
  {
   "cell_type": "code",
   "execution_count": 1,
   "id": "cb2896c8",
   "metadata": {},
   "outputs": [
    {
     "name": "stdout",
     "output_type": "stream",
     "text": [
      "Collecting mysql.connector\n",
      "  Using cached mysql-connector-2.2.9.tar.gz (11.9 MB)\n",
      "Building wheels for collected packages: mysql.connector\n",
      "  Building wheel for mysql.connector (setup.py): started\n",
      "  Building wheel for mysql.connector (setup.py): finished with status 'done'\n",
      "  Created wheel for mysql.connector: filename=mysql_connector-2.2.9-cp37-cp37m-win_amd64.whl size=247965 sha256=4e3d682d41da0f6f00e1a8c4d839fcecde2f251a235462abb0df51d975fd360b\n",
      "  Stored in directory: c:\\users\\devel\\appdata\\local\\pip\\cache\\wheels\\42\\2f\\c3\\692fc7fc1f0d8c06b9175d94f0fc30f4f92348f5df5af1b8b7\n",
      "Successfully built mysql.connector\n",
      "Installing collected packages: mysql.connector\n",
      "Successfully installed mysql.connector-2.2.9\n",
      "Note: you may need to restart the kernel to use updated packages.\n"
     ]
    },
    {
     "name": "stderr",
     "output_type": "stream",
     "text": [
      "WARNING: You are using pip version 21.1.2; however, version 22.0.4 is available.\n",
      "You should consider upgrading via the 'd:\\base_datos_curso\\bd_python\\venv\\scripts\\python.exe -m pip install --upgrade pip' command.\n"
     ]
    }
   ],
   "source": [
    "# libreria que me permite conectar mysql con PYTHON\n",
    "pip install mysql.connector"
   ]
  },
  {
   "cell_type": "code",
   "execution_count": 2,
   "id": "8c5cc3f0",
   "metadata": {},
   "outputs": [],
   "source": [
    "#conectarte a una base de datos desde mysql\n",
    "import mysql.connector as mysql\n",
    "db = mysql.connect(\n",
    "    host = \"localhost\",\n",
    "    user = \"root\",\n",
    "    password =\"\"\n",
    "   )\n",
    "\n",
    "conn= db.cursor()\n",
    "conn.execute(\"create database socios\")"
   ]
  },
  {
   "cell_type": "code",
   "execution_count": 4,
   "id": "e84bebf1",
   "metadata": {},
   "outputs": [],
   "source": [
    "#crear una tabla\n",
    "db = mysql.connect(\n",
    "    host = \"localhost\",\n",
    "    user = \"root\",\n",
    "    password =\"\",\n",
    "    database=\"socios\"\n",
    "   )\n",
    "\n",
    "conn= db.cursor()\n",
    "conn.execute(\n",
    "    \"\"\"\n",
    "     create table personas(\n",
    "      id int primary key auto_increment,\n",
    "      nombre varchar(255) not null,\n",
    "      edad int not null,\n",
    "      genero varchar(255)\n",
    "      \n",
    "     )\n",
    "    \"\"\"\n",
    ")"
   ]
  },
  {
   "cell_type": "code",
   "execution_count": 5,
   "id": "d6ea17e8",
   "metadata": {},
   "outputs": [],
   "source": [
    "query = \"insert into personas (nombre,edad,genero) values (%s,%s,%s)\"\n",
    "params = [ #listas\n",
    "    (\"Ana\",23,\"Mujer\"), #tuplas = Registros\n",
    "    (\"Beto\",17,\"Hombre\"),\n",
    "    (\"Carla\",28, \"Mujer\"),\n",
    "    (\"Daniel\" ,32 ,\"Hombre\")\n",
    "]\n",
    "\n",
    "conn.executemany(query,params)\n",
    "\n",
    "db.commit() #insertar fisicamente registros en la tabla"
   ]
  },
  {
   "cell_type": "code",
   "execution_count": 6,
   "id": "4cb92fe2",
   "metadata": {},
   "outputs": [
    {
     "data": {
      "text/plain": [
       "[(1, 'Ana', 23, 'Mujer'),\n",
       " (2, 'Beto', 17, 'Hombre'),\n",
       " (3, 'Carla', 28, 'Mujer'),\n",
       " (4, 'Daniel', 32, 'Hombre')]"
      ]
     },
     "execution_count": 6,
     "metadata": {},
     "output_type": "execute_result"
    }
   ],
   "source": [
    "conn.execute(\"Select * from personas\")\n",
    "result = conn.fetchall() #todos los registros\n",
    "result"
   ]
  },
  {
   "cell_type": "markdown",
   "id": "c41a34f9",
   "metadata": {},
   "source": [
    "## conectar a una base de datos \n"
   ]
  },
  {
   "cell_type": "code",
   "execution_count": 18,
   "id": "fff044a5",
   "metadata": {},
   "outputs": [
    {
     "data": {
      "text/html": [
       "<div>\n",
       "<style scoped>\n",
       "    .dataframe tbody tr th:only-of-type {\n",
       "        vertical-align: middle;\n",
       "    }\n",
       "\n",
       "    .dataframe tbody tr th {\n",
       "        vertical-align: top;\n",
       "    }\n",
       "\n",
       "    .dataframe thead th {\n",
       "        text-align: right;\n",
       "    }\n",
       "</style>\n",
       "<table border=\"1\" class=\"dataframe\">\n",
       "  <thead>\n",
       "    <tr style=\"text-align: right;\">\n",
       "      <th></th>\n",
       "      <th>id</th>\n",
       "      <th>nombre</th>\n",
       "      <th>edad</th>\n",
       "      <th>genero</th>\n",
       "      <th>estado</th>\n",
       "    </tr>\n",
       "  </thead>\n",
       "  <tbody>\n",
       "    <tr>\n",
       "      <th>0</th>\n",
       "      <td>1</td>\n",
       "      <td>ARMANDO</td>\n",
       "      <td>28</td>\n",
       "      <td>Masculino</td>\n",
       "      <td>1</td>\n",
       "    </tr>\n",
       "    <tr>\n",
       "      <th>1</th>\n",
       "      <td>2</td>\n",
       "      <td>Maria</td>\n",
       "      <td>23</td>\n",
       "      <td>Femenino</td>\n",
       "      <td>1</td>\n",
       "    </tr>\n",
       "  </tbody>\n",
       "</table>\n",
       "</div>"
      ],
      "text/plain": [
       "   id   nombre  edad     genero  estado\n",
       "0   1  ARMANDO    28  Masculino       1\n",
       "1   2    Maria    23   Femenino       1"
      ]
     },
     "execution_count": 18,
     "metadata": {},
     "output_type": "execute_result"
    }
   ],
   "source": [
    "import pandas as pd\n",
    "import mysql.connector\n",
    "cnx = mysql.connector.connect(user='root',password='',database='socios_2')\n",
    "query = pd.read_sql_query\n",
    "data_frame = query('SELECT * FROM PERSONAS' , cnx)\n",
    "data_frame\n"
   ]
  },
  {
   "cell_type": "code",
   "execution_count": null,
   "id": "21afbb94",
   "metadata": {},
   "outputs": [],
   "source": []
  }
 ],
 "metadata": {
  "kernelspec": {
   "display_name": "Python 3 (ipykernel)",
   "language": "python",
   "name": "python3"
  },
  "language_info": {
   "codemirror_mode": {
    "name": "ipython",
    "version": 3
   },
   "file_extension": ".py",
   "mimetype": "text/x-python",
   "name": "python",
   "nbconvert_exporter": "python",
   "pygments_lexer": "ipython3",
   "version": "3.7.5"
  }
 },
 "nbformat": 4,
 "nbformat_minor": 5
}
